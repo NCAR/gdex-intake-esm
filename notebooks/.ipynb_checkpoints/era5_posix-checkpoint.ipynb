{
 "cells": [
  {
   "cell_type": "markdown",
   "id": "bc65f494-4fbe-4af0-85ca-e3a424b56454",
   "metadata": {},
   "source": [
    "# Create intake catalog for ERA5 disk access"
   ]
  },
  {
   "cell_type": "markdown",
   "id": "f1774810-ea44-4f6e-b137-bd8b7acb0f7c",
   "metadata": {},
   "source": [
    "- This notebook uses an intake catalog that was created using ecgtools\n",
    "- We will read in data for temperature delete the rda_url and prepend rda_data to file paths and save it as a new catalog\n",
    "- Note that irrespective of whether the file paths in the catalog are urls or posix paths, the catalog itself has to be read using posix for now !!!"
   ]
  },
  {
   "cell_type": "code",
   "execution_count": 1,
   "id": "20444ba4-275a-45a7-bda5-c22b5cb5cee4",
   "metadata": {},
   "outputs": [],
   "source": [
    "# Display output of plots directly in Notebook\n",
    "%matplotlib inline\n",
    "import warnings\n",
    "warnings.filterwarnings(\"ignore\")\n",
    "import intake\n",
    "import numpy as np\n",
    "import pandas as pd\n",
    "import xarray as xr\n",
    "import intake_esm\n",
    "import glob\n",
    "from ecgtools import Builder\n",
    "from ecgtools.builder import INVALID_ASSET, TRACEBACK\n",
    "import re\n",
    "import pandas as pd\n",
    "from pathlib import Path\n",
    "import aiohttp"
   ]
  },
  {
   "cell_type": "code",
   "execution_count": 2,
   "id": "9928a424-cf23-4a2f-bf16-afe7137d296f",
   "metadata": {},
   "outputs": [],
   "source": [
    "import dask \n",
    "from dask_jobqueue import PBSCluster\n",
    "from dask.distributed import Client\n",
    "from dask.distributed import performance_report"
   ]
  },
  {
   "cell_type": "code",
   "execution_count": 13,
   "id": "f9bd1bd0-e3ef-4ab3-a5f8-daf315ddb63a",
   "metadata": {},
   "outputs": [],
   "source": [
    "rda_scratch = '/gpfs/csfs1/collections/rda/scratch/harshah'\n",
    "rda_data    = '/gpfs/csfs1/collections/rda/data/'\n",
    "#era5_path   = rda_data + 'ds633.0/e5.oper.an.sfc/'\n",
    "era5_path   = rda_data + 'ds633.0/'\n",
    "zarr_path   = rda_scratch + '/tas_zarr/'\n",
    "#\n",
    "rda_url     =  'https://data.rda.ucar.edu/'\n",
    "#This maps to /glade/campaign/collections/rda/transfer/\n",
    "# rda_zarr    = rda_url + 'harshah/pelican_test/tas_zarr/'\n",
    "cat_url = '/glade/campaign/collections/rda/data/d850001/catalogs/posix/era5/era5_catalog_posix.json'"
   ]
  },
  {
   "cell_type": "code",
   "execution_count": 4,
   "id": "679cae41-108f-47c4-af36-6e1ab00f1fa6",
   "metadata": {},
   "outputs": [],
   "source": [
    "# Create a PBS cluster object\n",
    "cluster = PBSCluster(\n",
    "    job_name = 'dask-wk24-hpc',\n",
    "    cores = 1,\n",
    "    memory = '4GiB',\n",
    "    processes = 1,\n",
    "    local_directory = rda_scratch+'/dask/spill',\n",
    "    log_directory = rda_scratch + '/dask/logs/',\n",
    "    resource_spec = 'select=1:ncpus=1:mem=4GB',\n",
    "    queue = 'casper',\n",
    "    walltime = '5:00:00',\n",
    "    #interface = 'ib0'\n",
    "    interface = 'ext'\n",
    ")"
   ]
  },
  {
   "cell_type": "code",
   "execution_count": 5,
   "id": "d06a87b8-985a-4cac-bbef-85873507e488",
   "metadata": {},
   "outputs": [],
   "source": [
    "cluster.scale(5)"
   ]
  },
  {
   "cell_type": "code",
   "execution_count": 6,
   "id": "2a9c6035-97c8-4fef-ac08-cd5ad79ac368",
   "metadata": {},
   "outputs": [
    {
     "data": {
      "application/vnd.jupyter.widget-view+json": {
       "model_id": "ed8ac88151ee4d45a4645a7216b1fe4b",
       "version_major": 2,
       "version_minor": 0
      },
      "text/html": [
       "<div class=\"jp-RenderedHTMLCommon jp-RenderedHTML jp-mod-trusted jp-OutputArea-output\">\n",
       "    <div style=\"width: 24px; height: 24px; background-color: #e1e1e1; border: 3px solid #9D9D9D; border-radius: 5px; position: absolute;\">\n",
       "    </div>\n",
       "    <div style=\"margin-left: 48px;\">\n",
       "        <h3 style=\"margin-bottom: 0px; margin-top: 0px;\">PBSCluster</h3>\n",
       "        <p style=\"color: #9D9D9D; margin-bottom: 0px;\">2504ba35</p>\n",
       "        <table style=\"width: 100%; text-align: left;\">\n",
       "            <tr>\n",
       "                <td style=\"text-align: left;\">\n",
       "                    <strong>Dashboard:</strong> <a href=\"https://jupyterhub.hpc.ucar.edu/stable/user/harshah/proxy/43833/status\" target=\"_blank\">https://jupyterhub.hpc.ucar.edu/stable/user/harshah/proxy/43833/status</a>\n",
       "                </td>\n",
       "                <td style=\"text-align: left;\">\n",
       "                    <strong>Workers:</strong> 0\n",
       "                </td>\n",
       "            </tr>\n",
       "            <tr>\n",
       "                <td style=\"text-align: left;\">\n",
       "                    <strong>Total threads:</strong> 0\n",
       "                </td>\n",
       "                <td style=\"text-align: left;\">\n",
       "                    <strong>Total memory:</strong> 0 B\n",
       "                </td>\n",
       "            </tr>\n",
       "            \n",
       "        </table>\n",
       "\n",
       "        <details>\n",
       "            <summary style=\"margin-bottom: 20px;\">\n",
       "                <h3 style=\"display: inline;\">Scheduler Info</h3>\n",
       "            </summary>\n",
       "\n",
       "            <div style=\"\">\n",
       "    <div>\n",
       "        <div style=\"width: 24px; height: 24px; background-color: #FFF7E5; border: 3px solid #FF6132; border-radius: 5px; position: absolute;\"> </div>\n",
       "        <div style=\"margin-left: 48px;\">\n",
       "            <h3 style=\"margin-bottom: 0px;\">Scheduler</h3>\n",
       "            <p style=\"color: #9D9D9D; margin-bottom: 0px;\">Scheduler-85f0b48d-9095-4359-a8ad-72e0e664f4a0</p>\n",
       "            <table style=\"width: 100%; text-align: left;\">\n",
       "                <tr>\n",
       "                    <td style=\"text-align: left;\">\n",
       "                        <strong>Comm:</strong> tcp://128.117.208.98:34247\n",
       "                    </td>\n",
       "                    <td style=\"text-align: left;\">\n",
       "                        <strong>Workers:</strong> 0\n",
       "                    </td>\n",
       "                </tr>\n",
       "                <tr>\n",
       "                    <td style=\"text-align: left;\">\n",
       "                        <strong>Dashboard:</strong> <a href=\"https://jupyterhub.hpc.ucar.edu/stable/user/harshah/proxy/43833/status\" target=\"_blank\">https://jupyterhub.hpc.ucar.edu/stable/user/harshah/proxy/43833/status</a>\n",
       "                    </td>\n",
       "                    <td style=\"text-align: left;\">\n",
       "                        <strong>Total threads:</strong> 0\n",
       "                    </td>\n",
       "                </tr>\n",
       "                <tr>\n",
       "                    <td style=\"text-align: left;\">\n",
       "                        <strong>Started:</strong> Just now\n",
       "                    </td>\n",
       "                    <td style=\"text-align: left;\">\n",
       "                        <strong>Total memory:</strong> 0 B\n",
       "                    </td>\n",
       "                </tr>\n",
       "            </table>\n",
       "        </div>\n",
       "    </div>\n",
       "\n",
       "    <details style=\"margin-left: 48px;\">\n",
       "        <summary style=\"margin-bottom: 20px;\">\n",
       "            <h3 style=\"display: inline;\">Workers</h3>\n",
       "        </summary>\n",
       "\n",
       "        \n",
       "\n",
       "    </details>\n",
       "</div>\n",
       "\n",
       "        </details>\n",
       "    </div>\n",
       "</div>"
      ],
      "text/plain": [
       "PBSCluster(2504ba35, 'tcp://128.117.208.98:34247', workers=0, threads=0, memory=0 B)"
      ]
     },
     "metadata": {},
     "output_type": "display_data"
    }
   ],
   "source": [
    "cluster"
   ]
  },
  {
   "cell_type": "markdown",
   "id": "8d94d9fb-e403-405e-b385-093e4ce6bdb9",
   "metadata": {},
   "source": [
    "## Build a custom parser "
   ]
  },
  {
   "cell_type": "markdown",
   "id": "49811779-86c3-4edc-8aea-0ea2af37309b",
   "metadata": {},
   "source": [
    "## Open the saved catalog and test its properties"
   ]
  },
  {
   "cell_type": "code",
   "execution_count": 41,
   "id": "31ef925d-278a-4d09-8636-734a388b664f",
   "metadata": {},
   "outputs": [
    {
     "data": {
      "text/html": [
       "<p><strong>era5_catalog catalog with 7 dataset(s) from 785068 asset(s)</strong>:</p> <div>\n",
       "<style scoped>\n",
       "    .dataframe tbody tr th:only-of-type {\n",
       "        vertical-align: middle;\n",
       "    }\n",
       "\n",
       "    .dataframe tbody tr th {\n",
       "        vertical-align: top;\n",
       "    }\n",
       "\n",
       "    .dataframe thead th {\n",
       "        text-align: right;\n",
       "    }\n",
       "</style>\n",
       "<table border=\"1\" class=\"dataframe\">\n",
       "  <thead>\n",
       "    <tr style=\"text-align: right;\">\n",
       "      <th></th>\n",
       "      <th>unique</th>\n",
       "    </tr>\n",
       "  </thead>\n",
       "  <tbody>\n",
       "    <tr>\n",
       "      <th>Unnamed: 0</th>\n",
       "      <td>785068</td>\n",
       "    </tr>\n",
       "    <tr>\n",
       "      <th>era_id</th>\n",
       "      <td>1</td>\n",
       "    </tr>\n",
       "    <tr>\n",
       "      <th>datatype</th>\n",
       "      <td>2</td>\n",
       "    </tr>\n",
       "    <tr>\n",
       "      <th>level_type</th>\n",
       "      <td>1</td>\n",
       "    </tr>\n",
       "    <tr>\n",
       "      <th>step_type</th>\n",
       "      <td>7</td>\n",
       "    </tr>\n",
       "    <tr>\n",
       "      <th>table_code</th>\n",
       "      <td>4</td>\n",
       "    </tr>\n",
       "    <tr>\n",
       "      <th>param_code</th>\n",
       "      <td>164</td>\n",
       "    </tr>\n",
       "    <tr>\n",
       "      <th>variable</th>\n",
       "      <td>212</td>\n",
       "    </tr>\n",
       "    <tr>\n",
       "      <th>long_name</th>\n",
       "      <td>212</td>\n",
       "    </tr>\n",
       "    <tr>\n",
       "      <th>units</th>\n",
       "      <td>33</td>\n",
       "    </tr>\n",
       "    <tr>\n",
       "      <th>year</th>\n",
       "      <td>85</td>\n",
       "    </tr>\n",
       "    <tr>\n",
       "      <th>month</th>\n",
       "      <td>12</td>\n",
       "    </tr>\n",
       "    <tr>\n",
       "      <th>format</th>\n",
       "      <td>1</td>\n",
       "    </tr>\n",
       "    <tr>\n",
       "      <th>frequency</th>\n",
       "      <td>1</td>\n",
       "    </tr>\n",
       "    <tr>\n",
       "      <th>path</th>\n",
       "      <td>785068</td>\n",
       "    </tr>\n",
       "    <tr>\n",
       "      <th>derived_variable</th>\n",
       "      <td>0</td>\n",
       "    </tr>\n",
       "  </tbody>\n",
       "</table>\n",
       "</div>"
      ],
      "text/plain": [
       "<IPython.core.display.HTML object>"
      ]
     },
     "metadata": {},
     "output_type": "display_data"
    }
   ],
   "source": [
    "catalog = intake.open_esm_datastore(cat_url)\n",
    "catalog"
   ]
  },
  {
   "cell_type": "code",
   "execution_count": 38,
   "id": "a744fedc-b806-4ac1-be36-55865e0832d4",
   "metadata": {},
   "outputs": [
    {
     "data": {
      "text/plain": [
       "array(['/glade/campaign/collections/rda/data/d633000/e5.oper.an.pl/194001/e5.oper.an.pl.128_060_pv.ll025sc.1940010100_1940010123.nc',\n",
       "       '/glade/campaign/collections/rda/data/d633000/e5.oper.an.pl/194001/e5.oper.an.pl.128_060_pv.ll025sc.1940010200_1940010223.nc',\n",
       "       '/glade/campaign/collections/rda/data/d633000/e5.oper.an.pl/194001/e5.oper.an.pl.128_060_pv.ll025sc.1940010300_1940010323.nc',\n",
       "       '/glade/campaign/collections/rda/data/d633000/e5.oper.an.pl/194001/e5.oper.an.pl.128_060_pv.ll025sc.1940010400_1940010423.nc',\n",
       "       '/glade/campaign/collections/rda/data/d633000/e5.oper.an.pl/194001/e5.oper.an.pl.128_060_pv.ll025sc.1940010500_1940010523.nc'],\n",
       "      dtype=object)"
      ]
     },
     "execution_count": 38,
     "metadata": {},
     "output_type": "execute_result"
    }
   ],
   "source": [
    "catalog.df['path'].head().values"
   ]
  },
  {
   "cell_type": "code",
   "execution_count": 44,
   "id": "9cb30149-0089-440d-9e2e-47072afb3047",
   "metadata": {},
   "outputs": [],
   "source": [
    "# catalog.df"
   ]
  },
  {
   "cell_type": "code",
   "execution_count": 45,
   "id": "9b9b643b-3c6c-4b40-9f65-423cba60b4f1",
   "metadata": {
    "scrolled": true
   },
   "outputs": [
    {
     "data": {
      "text/html": [
       "<div>\n",
       "<style scoped>\n",
       "    .dataframe tbody tr th:only-of-type {\n",
       "        vertical-align: middle;\n",
       "    }\n",
       "\n",
       "    .dataframe tbody tr th {\n",
       "        vertical-align: top;\n",
       "    }\n",
       "\n",
       "    .dataframe thead th {\n",
       "        text-align: right;\n",
       "    }\n",
       "</style>\n",
       "<table border=\"1\" class=\"dataframe\">\n",
       "  <thead>\n",
       "    <tr style=\"text-align: right;\">\n",
       "      <th></th>\n",
       "      <th>Unnamed: 0</th>\n",
       "      <th>era_id</th>\n",
       "      <th>datatype</th>\n",
       "      <th>level_type</th>\n",
       "      <th>step_type</th>\n",
       "      <th>table_code</th>\n",
       "      <th>param_code</th>\n",
       "      <th>variable</th>\n",
       "      <th>long_name</th>\n",
       "      <th>units</th>\n",
       "      <th>year</th>\n",
       "      <th>month</th>\n",
       "      <th>format</th>\n",
       "      <th>frequency</th>\n",
       "      <th>path</th>\n",
       "    </tr>\n",
       "  </thead>\n",
       "  <tbody>\n",
       "    <tr>\n",
       "      <th>0</th>\n",
       "      <td>591340</td>\n",
       "      <td>e5</td>\n",
       "      <td>fc</td>\n",
       "      <td>sfc</td>\n",
       "      <td>accumu</td>\n",
       "      <td>128</td>\n",
       "      <td>8</td>\n",
       "      <td>SRO</td>\n",
       "      <td>Surface runoff</td>\n",
       "      <td>m</td>\n",
       "      <td>1940</td>\n",
       "      <td>1</td>\n",
       "      <td>nc</td>\n",
       "      <td>hourly</td>\n",
       "      <td>/glade/campaign/collections/rda/data/d633000/e...</td>\n",
       "    </tr>\n",
       "    <tr>\n",
       "      <th>1</th>\n",
       "      <td>591341</td>\n",
       "      <td>e5</td>\n",
       "      <td>fc</td>\n",
       "      <td>sfc</td>\n",
       "      <td>accumu</td>\n",
       "      <td>128</td>\n",
       "      <td>8</td>\n",
       "      <td>SRO</td>\n",
       "      <td>Surface runoff</td>\n",
       "      <td>m</td>\n",
       "      <td>1940</td>\n",
       "      <td>1</td>\n",
       "      <td>nc</td>\n",
       "      <td>hourly</td>\n",
       "      <td>/glade/campaign/collections/rda/data/d633000/e...</td>\n",
       "    </tr>\n",
       "    <tr>\n",
       "      <th>2</th>\n",
       "      <td>591342</td>\n",
       "      <td>e5</td>\n",
       "      <td>fc</td>\n",
       "      <td>sfc</td>\n",
       "      <td>accumu</td>\n",
       "      <td>128</td>\n",
       "      <td>9</td>\n",
       "      <td>SSRO</td>\n",
       "      <td>Sub-surface runoff</td>\n",
       "      <td>m</td>\n",
       "      <td>1940</td>\n",
       "      <td>1</td>\n",
       "      <td>nc</td>\n",
       "      <td>hourly</td>\n",
       "      <td>/glade/campaign/collections/rda/data/d633000/e...</td>\n",
       "    </tr>\n",
       "    <tr>\n",
       "      <th>3</th>\n",
       "      <td>591343</td>\n",
       "      <td>e5</td>\n",
       "      <td>fc</td>\n",
       "      <td>sfc</td>\n",
       "      <td>accumu</td>\n",
       "      <td>128</td>\n",
       "      <td>9</td>\n",
       "      <td>SSRO</td>\n",
       "      <td>Sub-surface runoff</td>\n",
       "      <td>m</td>\n",
       "      <td>1940</td>\n",
       "      <td>1</td>\n",
       "      <td>nc</td>\n",
       "      <td>hourly</td>\n",
       "      <td>/glade/campaign/collections/rda/data/d633000/e...</td>\n",
       "    </tr>\n",
       "    <tr>\n",
       "      <th>4</th>\n",
       "      <td>591344</td>\n",
       "      <td>e5</td>\n",
       "      <td>fc</td>\n",
       "      <td>sfc</td>\n",
       "      <td>accumu</td>\n",
       "      <td>128</td>\n",
       "      <td>44</td>\n",
       "      <td>ES</td>\n",
       "      <td>Snow evaporation</td>\n",
       "      <td>m of water equivalent</td>\n",
       "      <td>1940</td>\n",
       "      <td>1</td>\n",
       "      <td>nc</td>\n",
       "      <td>hourly</td>\n",
       "      <td>/glade/campaign/collections/rda/data/d633000/e...</td>\n",
       "    </tr>\n",
       "  </tbody>\n",
       "</table>\n",
       "</div>"
      ],
      "text/plain": [
       "   Unnamed: 0 era_id datatype level_type step_type  table_code  param_code  \\\n",
       "0      591340     e5       fc        sfc    accumu         128           8   \n",
       "1      591341     e5       fc        sfc    accumu         128           8   \n",
       "2      591342     e5       fc        sfc    accumu         128           9   \n",
       "3      591343     e5       fc        sfc    accumu         128           9   \n",
       "4      591344     e5       fc        sfc    accumu         128          44   \n",
       "\n",
       "  variable           long_name                  units  year  month format  \\\n",
       "0      SRO      Surface runoff                      m  1940      1     nc   \n",
       "1      SRO      Surface runoff                      m  1940      1     nc   \n",
       "2     SSRO  Sub-surface runoff                      m  1940      1     nc   \n",
       "3     SSRO  Sub-surface runoff                      m  1940      1     nc   \n",
       "4       ES    Snow evaporation  m of water equivalent  1940      1     nc   \n",
       "\n",
       "  frequency                                               path  \n",
       "0    hourly  /glade/campaign/collections/rda/data/d633000/e...  \n",
       "1    hourly  /glade/campaign/collections/rda/data/d633000/e...  \n",
       "2    hourly  /glade/campaign/collections/rda/data/d633000/e...  \n",
       "3    hourly  /glade/campaign/collections/rda/data/d633000/e...  \n",
       "4    hourly  /glade/campaign/collections/rda/data/d633000/e...  "
      ]
     },
     "execution_count": 45,
     "metadata": {},
     "output_type": "execute_result"
    }
   ],
   "source": [
    "cat_surface = catalog.search(level_type ='sfc')\n",
    "cat_surface.df.head()"
   ]
  },
  {
   "cell_type": "code",
   "execution_count": 46,
   "id": "5a9f0c02-607c-498f-ae66-088424ae2d18",
   "metadata": {},
   "outputs": [
    {
     "data": {
      "text/plain": [
       "array(['/glade/campaign/collections/rda/data/d633000/e5.oper.fc.sfc.accumu/194001/e5.oper.fc.sfc.accumu.128_008_sro.ll025sc.1940010106_1940011606.nc',\n",
       "       '/glade/campaign/collections/rda/data/d633000/e5.oper.fc.sfc.accumu/194001/e5.oper.fc.sfc.accumu.128_008_sro.ll025sc.1940011606_1940020106.nc',\n",
       "       '/glade/campaign/collections/rda/data/d633000/e5.oper.fc.sfc.accumu/194001/e5.oper.fc.sfc.accumu.128_009_ssro.ll025sc.1940010106_1940011606.nc',\n",
       "       '/glade/campaign/collections/rda/data/d633000/e5.oper.fc.sfc.accumu/194001/e5.oper.fc.sfc.accumu.128_009_ssro.ll025sc.1940011606_1940020106.nc',\n",
       "       '/glade/campaign/collections/rda/data/d633000/e5.oper.fc.sfc.accumu/194001/e5.oper.fc.sfc.accumu.128_044_es.ll025sc.1940010106_1940011606.nc'],\n",
       "      dtype=object)"
      ]
     },
     "execution_count": 46,
     "metadata": {},
     "output_type": "execute_result"
    }
   ],
   "source": [
    "cat_surface.df['path'].head().values"
   ]
  },
  {
   "cell_type": "code",
   "execution_count": 53,
   "id": "baf37730-f70e-4132-99c8-3668622d3589",
   "metadata": {},
   "outputs": [
    {
     "data": {
      "text/html": [
       "<div>\n",
       "<style scoped>\n",
       "    .dataframe tbody tr th:only-of-type {\n",
       "        vertical-align: middle;\n",
       "    }\n",
       "\n",
       "    .dataframe tbody tr th {\n",
       "        vertical-align: top;\n",
       "    }\n",
       "\n",
       "    .dataframe thead th {\n",
       "        text-align: right;\n",
       "    }\n",
       "</style>\n",
       "<table border=\"1\" class=\"dataframe\">\n",
       "  <thead>\n",
       "    <tr style=\"text-align: right;\">\n",
       "      <th></th>\n",
       "      <th>Unnamed: 0</th>\n",
       "      <th>era_id</th>\n",
       "      <th>datatype</th>\n",
       "      <th>level_type</th>\n",
       "      <th>step_type</th>\n",
       "      <th>table_code</th>\n",
       "      <th>param_code</th>\n",
       "      <th>variable</th>\n",
       "      <th>long_name</th>\n",
       "      <th>units</th>\n",
       "      <th>year</th>\n",
       "      <th>month</th>\n",
       "      <th>format</th>\n",
       "      <th>frequency</th>\n",
       "      <th>path</th>\n",
       "    </tr>\n",
       "  </thead>\n",
       "  <tbody>\n",
       "    <tr>\n",
       "      <th>0</th>\n",
       "      <td>554980</td>\n",
       "      <td>e5</td>\n",
       "      <td>an</td>\n",
       "      <td>NaN</td>\n",
       "      <td>vinteg</td>\n",
       "      <td>162</td>\n",
       "      <td>53</td>\n",
       "      <td>VIMA</td>\n",
       "      <td>Vertical integral of mass of atmosphere</td>\n",
       "      <td>kg m**-2</td>\n",
       "      <td>1940</td>\n",
       "      <td>1</td>\n",
       "      <td>nc</td>\n",
       "      <td>hourly</td>\n",
       "      <td>/glade/campaign/collections/rda/data/d633000/e...</td>\n",
       "    </tr>\n",
       "    <tr>\n",
       "      <th>1</th>\n",
       "      <td>554981</td>\n",
       "      <td>e5</td>\n",
       "      <td>an</td>\n",
       "      <td>NaN</td>\n",
       "      <td>vinteg</td>\n",
       "      <td>162</td>\n",
       "      <td>54</td>\n",
       "      <td>VIT</td>\n",
       "      <td>Vertical integral of temperature</td>\n",
       "      <td>K kg m**-2</td>\n",
       "      <td>1940</td>\n",
       "      <td>1</td>\n",
       "      <td>nc</td>\n",
       "      <td>hourly</td>\n",
       "      <td>/glade/campaign/collections/rda/data/d633000/e...</td>\n",
       "    </tr>\n",
       "    <tr>\n",
       "      <th>2</th>\n",
       "      <td>554982</td>\n",
       "      <td>e5</td>\n",
       "      <td>an</td>\n",
       "      <td>NaN</td>\n",
       "      <td>vinteg</td>\n",
       "      <td>162</td>\n",
       "      <td>59</td>\n",
       "      <td>VIKE</td>\n",
       "      <td>Vertical integral of kinetic energy</td>\n",
       "      <td>J m**-2</td>\n",
       "      <td>1940</td>\n",
       "      <td>1</td>\n",
       "      <td>nc</td>\n",
       "      <td>hourly</td>\n",
       "      <td>/glade/campaign/collections/rda/data/d633000/e...</td>\n",
       "    </tr>\n",
       "    <tr>\n",
       "      <th>3</th>\n",
       "      <td>554983</td>\n",
       "      <td>e5</td>\n",
       "      <td>an</td>\n",
       "      <td>NaN</td>\n",
       "      <td>vinteg</td>\n",
       "      <td>162</td>\n",
       "      <td>60</td>\n",
       "      <td>VITHE</td>\n",
       "      <td>Vertical integral of thermal energy</td>\n",
       "      <td>J m**-2</td>\n",
       "      <td>1940</td>\n",
       "      <td>1</td>\n",
       "      <td>nc</td>\n",
       "      <td>hourly</td>\n",
       "      <td>/glade/campaign/collections/rda/data/d633000/e...</td>\n",
       "    </tr>\n",
       "    <tr>\n",
       "      <th>4</th>\n",
       "      <td>554984</td>\n",
       "      <td>e5</td>\n",
       "      <td>an</td>\n",
       "      <td>NaN</td>\n",
       "      <td>vinteg</td>\n",
       "      <td>162</td>\n",
       "      <td>61</td>\n",
       "      <td>VIPIE</td>\n",
       "      <td>Vertical integral of potential+internal energy</td>\n",
       "      <td>J m**-2</td>\n",
       "      <td>1940</td>\n",
       "      <td>1</td>\n",
       "      <td>nc</td>\n",
       "      <td>hourly</td>\n",
       "      <td>/glade/campaign/collections/rda/data/d633000/e...</td>\n",
       "    </tr>\n",
       "  </tbody>\n",
       "</table>\n",
       "</div>"
      ],
      "text/plain": [
       "   Unnamed: 0 era_id datatype level_type step_type  table_code  param_code  \\\n",
       "0      554980     e5       an        NaN    vinteg         162          53   \n",
       "1      554981     e5       an        NaN    vinteg         162          54   \n",
       "2      554982     e5       an        NaN    vinteg         162          59   \n",
       "3      554983     e5       an        NaN    vinteg         162          60   \n",
       "4      554984     e5       an        NaN    vinteg         162          61   \n",
       "\n",
       "  variable                                       long_name       units  year  \\\n",
       "0     VIMA         Vertical integral of mass of atmosphere    kg m**-2  1940   \n",
       "1      VIT                Vertical integral of temperature  K kg m**-2  1940   \n",
       "2     VIKE             Vertical integral of kinetic energy     J m**-2  1940   \n",
       "3    VITHE             Vertical integral of thermal energy     J m**-2  1940   \n",
       "4    VIPIE  Vertical integral of potential+internal energy     J m**-2  1940   \n",
       "\n",
       "   month format frequency                                               path  \n",
       "0      1     nc    hourly  /glade/campaign/collections/rda/data/d633000/e...  \n",
       "1      1     nc    hourly  /glade/campaign/collections/rda/data/d633000/e...  \n",
       "2      1     nc    hourly  /glade/campaign/collections/rda/data/d633000/e...  \n",
       "3      1     nc    hourly  /glade/campaign/collections/rda/data/d633000/e...  \n",
       "4      1     nc    hourly  /glade/campaign/collections/rda/data/d633000/e...  "
      ]
     },
     "execution_count": 53,
     "metadata": {},
     "output_type": "execute_result"
    }
   ],
   "source": [
    "cat_vint = catalog.search(step_type ='vinteg')\n",
    "cat_vint.df.head()"
   ]
  },
  {
   "cell_type": "markdown",
   "id": "8d4a2116-7e66-4530-ae50-0ba982922efc",
   "metadata": {},
   "source": [
    "### Inspect the keys"
   ]
  },
  {
   "cell_type": "code",
   "execution_count": null,
   "id": "53e190d9-c075-4c08-b3c4-835ecb41b5db",
   "metadata": {},
   "outputs": [],
   "source": [
    "test_ds.keys()"
   ]
  },
  {
   "cell_type": "code",
   "execution_count": null,
   "id": "2a39aaea-8396-4ab7-9677-c0d43a17a2b5",
   "metadata": {},
   "outputs": [],
   "source": [
    "test_ds['an.vinteg']"
   ]
  },
  {
   "cell_type": "markdown",
   "id": "49500fb8-9b13-4f19-9293-fcb4b70ca957",
   "metadata": {
    "jp-MarkdownHeadingCollapsed": true
   },
   "source": [
    "## Select variable and plot\n",
    "- I am selecting Vertical Integral of temperature"
   ]
  },
  {
   "cell_type": "code",
   "execution_count": null,
   "id": "f6e61142-ca9f-43bf-af5a-f1a6359e80da",
   "metadata": {},
   "outputs": [],
   "source": [
    "test_ds['an.vinteg'].VIT"
   ]
  },
  {
   "cell_type": "markdown",
   "id": "fe87ba09-2220-4123-937f-45ac19b18054",
   "metadata": {},
   "source": [
    "## Spin up cluster"
   ]
  },
  {
   "cell_type": "code",
   "execution_count": null,
   "id": "573d806b-2aa4-4453-b535-784ac39a0e41",
   "metadata": {},
   "outputs": [],
   "source": [
    "client = Client(cluster)\n",
    "client"
   ]
  },
  {
   "cell_type": "code",
   "execution_count": null,
   "id": "1e2b3e62-862b-42f9-9024-a8a4496ae6c0",
   "metadata": {},
   "outputs": [],
   "source": [
    "cluster.scale(15)\n",
    "cluster"
   ]
  },
  {
   "cell_type": "markdown",
   "id": "0734f042-6d37-463e-b832-dfa6e12503e7",
   "metadata": {},
   "source": [
    "### Builder object for all files"
   ]
  },
  {
   "cell_type": "code",
   "execution_count": null,
   "id": "3e9cdaa4-222f-4d05-90dd-14b0b722e403",
   "metadata": {},
   "outputs": [],
   "source": [
    "#b_an = Builder(paths=[era5_path+'e5.oper.an.*/'],depth=1,exclude_patterns=['*.grb'])\n",
    "# b_era = Builder(paths=[era5_path],depth=2,exclude_patterns=['*.grb','.html'],joblib_parallel_kwargs = {\n",
    "#          'n_jobs': 15,  # Utilize all 10 cores\n",
    "#          'backend': 'loky',  # 'loky' is good for managing processes, especially if you're not using Dask integration\n",
    "#         })\n",
    "# b_era"
   ]
  },
  {
   "cell_type": "code",
   "execution_count": null,
   "id": "a941e0af-510f-4db7-b7ca-2f92aa89d320",
   "metadata": {},
   "outputs": [],
   "source": [
    "# %%time\n",
    "# b_era.build(parsing_func= parse_era5)"
   ]
  },
  {
   "cell_type": "code",
   "execution_count": null,
   "id": "cd7ebd00-6b04-45be-b851-2dd4d233e737",
   "metadata": {},
   "outputs": [],
   "source": [
    "b_era_df = b_era.df\n",
    "b_era_df"
   ]
  },
  {
   "cell_type": "markdown",
   "id": "01be340c-91a2-494e-8614-1865dd833738",
   "metadata": {},
   "source": [
    "# Inspect the catalog\n",
    "- We observe that there are several rows which are NaN, we should drop them before saving our catalog\n",
    "- We also see that not all files have a `level_type'. So, we should probably not use this column as a groupby attribute"
   ]
  },
  {
   "cell_type": "code",
   "execution_count": null,
   "id": "7b8e1541-d778-4ef0-bef2-fdbdd87bc8cc",
   "metadata": {},
   "outputs": [],
   "source": [
    "# Check for NaN values in the 'datatype' column\n",
    "print(b_era_df['datatype'].isnull().value_counts())"
   ]
  },
  {
   "cell_type": "code",
   "execution_count": null,
   "id": "07efd04f-46fd-4865-a84b-7a0f66450672",
   "metadata": {},
   "outputs": [],
   "source": [
    "# Replace NaN values in the 'datatype' column with the string 'NA'\n",
    "b_era_df = b_era_df.dropna()\n",
    "b_era_df"
   ]
  },
  {
   "cell_type": "code",
   "execution_count": null,
   "id": "17029744-01a7-466a-8052-9fe86f38aaed",
   "metadata": {},
   "outputs": [],
   "source": [
    "b_era_df['level_type'] = b_era_df['level_type'].replace('NaN', 'NA')\n",
    "b_era.df = b_era_df  # Update the builder's DataFrame with the modified one\n",
    "# Check for NaN values in the 'level_type' column\n",
    "print(b_era_df['level_type'].isnull().value_counts())"
   ]
  },
  {
   "cell_type": "code",
   "execution_count": null,
   "id": "1453d6cc-9869-413b-9d4e-48500da3ce81",
   "metadata": {},
   "outputs": [],
   "source": [
    "b_era_df['level_type']"
   ]
  },
  {
   "cell_type": "markdown",
   "id": "e935872a-7da2-4424-b014-14023b865870",
   "metadata": {},
   "source": [
    "- Check to see which files were not parsed by calling .invalid_assets"
   ]
  },
  {
   "cell_type": "code",
   "execution_count": null,
   "id": "877e9e4c-854e-4a23-9d84-49a852ed0d5c",
   "metadata": {},
   "outputs": [],
   "source": [
    "b_era.invalid_assets"
   ]
  },
  {
   "cell_type": "code",
   "execution_count": null,
   "id": "32d43985-cad8-4510-87a5-fddaaacd73cc",
   "metadata": {},
   "outputs": [],
   "source": [
    "# %%time\n",
    "# b_era.save(\n",
    "#     name='era5_catalog',\n",
    "#     path_column_name='path',\n",
    "#     variable_column_name='variable',\n",
    "#     data_format='netcdf',\n",
    "#     groupby_attrs=[\n",
    "#         'datatype',\n",
    "#         #'level_type',\n",
    "#         'step_type'\n",
    "#     ],\n",
    "#     aggregations=[\n",
    "#         {'type': 'union', 'attribute_name': 'variable'},\n",
    "#         {\n",
    "#             'type': 'join_existing',\n",
    "#             'attribute_name': 'time_range',\n",
    "#             'options': {'dim': 'time', 'coords': 'minimal', 'compat': 'override'},\n",
    "#         },\n",
    "#     ],\n",
    "#     description = 'This is the NetCDF collection of the publicly accessible ERA5 dataset, which is a part of the NCAR glade collection. ',\n",
    "#     directory = '/gpfs/csfs1/collections/rda/scratch/harshah/intake_catalogs'\n",
    "# )"
   ]
  },
  {
   "cell_type": "markdown",
   "id": "7c179a61-7cfb-40b0-9c66-054ae039e27f",
   "metadata": {},
   "source": [
    "## Test the catalog, load some data and plot"
   ]
  },
  {
   "cell_type": "code",
   "execution_count": null,
   "id": "97c8e81d-cf34-4477-bb29-f41091bae1f9",
   "metadata": {},
   "outputs": [],
   "source": [
    "# test = pd.read_json('/gpfs/csfs1/collections/rda/scratch/harshah/intake_catalogs/era5_catalog.json')\n",
    "# test"
   ]
  },
  {
   "cell_type": "code",
   "execution_count": null,
   "id": "462ea879-d6b2-438c-88c9-50dc69d04fdd",
   "metadata": {},
   "outputs": [],
   "source": [
    "col.df"
   ]
  },
  {
   "cell_type": "code",
   "execution_count": null,
   "id": "cf2fd7a6-19c7-486b-91b1-a2499103cb35",
   "metadata": {},
   "outputs": [],
   "source": [
    "col = intake.open_esm_datastore('/gpfs/csfs1/collections/rda/scratch/harshah/intake_catalogs/era5_catalog_test.json')\n",
    "col"
   ]
  },
  {
   "cell_type": "code",
   "execution_count": null,
   "id": "8175d4c9-a5c2-4cf0-ba8b-0ff2425ac049",
   "metadata": {},
   "outputs": [],
   "source": [
    "col.df"
   ]
  },
  {
   "cell_type": "code",
   "execution_count": null,
   "id": "803610c5-0b7b-4b3a-b7cf-dee93c569210",
   "metadata": {},
   "outputs": [],
   "source": [
    "df1 = col.df"
   ]
  },
  {
   "cell_type": "code",
   "execution_count": null,
   "id": "4b9f2ef5-fe74-4c4f-905c-60cc69accd78",
   "metadata": {
    "scrolled": true
   },
   "outputs": [],
   "source": [
    "df1['path']= df1['path'].str.replace(rda_data, '')\n",
    "df1['path'] = rda_url + df1['path'] + '#mode=bytes'\n",
    "df1"
   ]
  },
  {
   "cell_type": "code",
   "execution_count": null,
   "id": "7f7f28a9-37be-46b4-8804-ebd8c178e5b7",
   "metadata": {},
   "outputs": [],
   "source": [
    "# # Drop the column named 'Unnamed: 0' if it exists\n",
    "# df1 = df1.loc[:, ~df1.columns.str.contains('^Unnamed')]\n",
    "# df1"
   ]
  },
  {
   "cell_type": "code",
   "execution_count": null,
   "id": "6596fa6d-d6c3-4cf1-9a3e-cd7c5f4b43de",
   "metadata": {},
   "outputs": [],
   "source": [
    "# df1.to_csv('/gpfs/csfs1/collections/rda/scratch/harshah/intake_catalogs/era5_catalog.csv',index=False)"
   ]
  },
  {
   "cell_type": "code",
   "execution_count": null,
   "id": "62d76d35-89bc-4b78-bb1c-62741970b3b4",
   "metadata": {},
   "outputs": [],
   "source": [
    "# test_path = df1['path'][0] + '#mode=bytes'"
   ]
  },
  {
   "cell_type": "code",
   "execution_count": null,
   "id": "40b081bc-a4e4-4b5a-bc69-b79b4a0474f8",
   "metadata": {},
   "outputs": [],
   "source": [
    "df1.to_csv(\"/gpfs/csfs1/collections/rda/scratch/harshah/intake_catalogs/era5_catalog_test.csv\")"
   ]
  },
  {
   "cell_type": "code",
   "execution_count": null,
   "id": "ee653920-481e-48a4-b331-86b21f7f420c",
   "metadata": {},
   "outputs": [],
   "source": [
    "col = intake.open_esm_datastore('/gpfs/csfs1/collections/rda/scratch/harshah/intake_catalogs/era5_catalog_test.json')\n",
    "col.df"
   ]
  },
  {
   "cell_type": "code",
   "execution_count": null,
   "id": "bb827915-a51a-4760-99c6-901666cf9e0f",
   "metadata": {},
   "outputs": [],
   "source": [
    "%%time\n",
    "test = xr.open_dataset(col.df['path'][0],engine='netcdf4')\n",
    "test = test.PV.isel(latitude=0,longitude =1,level=0)"
   ]
  },
  {
   "cell_type": "code",
   "execution_count": null,
   "id": "0adebe6e-83ce-41a2-a877-25e2c126ecfd",
   "metadata": {},
   "outputs": [],
   "source": [
    "xr.open_mfdataset(col.df.path.values[0:2], engine='netcdf4')"
   ]
  },
  {
   "cell_type": "code",
   "execution_count": null,
   "id": "e524f3a4-2263-4d80-9a05-bc3497e69233",
   "metadata": {},
   "outputs": [],
   "source": [
    "dsets = col.to_dataset_dict()"
   ]
  },
  {
   "cell_type": "code",
   "execution_count": null,
   "id": "8dd67ff4-0be9-44c5-bee3-5198c55dcec1",
   "metadata": {},
   "outputs": [],
   "source": [
    "ds = xr.open_mfdataset(col['an.vinteg'].df.path.values)"
   ]
  },
  {
   "cell_type": "code",
   "execution_count": null,
   "id": "97c511ad-cfde-4fe2-9374-95b965cc1651",
   "metadata": {},
   "outputs": [],
   "source": []
  },
  {
   "cell_type": "code",
   "execution_count": null,
   "id": "18438be4-7ce2-4074-bb6f-afc227a94c39",
   "metadata": {},
   "outputs": [],
   "source": [
    "cat = col.search(variable='MN2T',frequency='hourly', year=1940)\n",
    "cat"
   ]
  },
  {
   "cell_type": "code",
   "execution_count": null,
   "id": "14c7beb7-f33e-4f81-9773-09815a3e7156",
   "metadata": {},
   "outputs": [],
   "source": [
    "dsets = cat.to_dataset_dict(aggregate=False)"
   ]
  },
  {
   "cell_type": "markdown",
   "id": "2bbd7572-be7a-4644-aa5b-003f0a681759",
   "metadata": {},
   "source": [
    "- Inspect keys"
   ]
  },
  {
   "cell_type": "code",
   "execution_count": null,
   "id": "845b5a0b-ad7c-4680-bf11-699c08d05d83",
   "metadata": {},
   "outputs": [],
   "source": [
    "cat.df"
   ]
  },
  {
   "cell_type": "code",
   "execution_count": null,
   "id": "62d06af2-b93c-47fd-ae8d-a06ef28c9111",
   "metadata": {},
   "outputs": [],
   "source": [
    "%%time\n",
    "test2 = xr.open_dataset(cat.df['path'][0],engine='netcdf4')\n",
    "test2"
   ]
  },
  {
   "cell_type": "code",
   "execution_count": null,
   "id": "91596588-0b0f-42b7-a693-c9a678ddafe1",
   "metadata": {},
   "outputs": [],
   "source": [
    "print(cat.df['path'][0])"
   ]
  },
  {
   "cell_type": "code",
   "execution_count": null,
   "id": "fca54962-108d-476b-8df4-9410ac09d742",
   "metadata": {},
   "outputs": [],
   "source": [
    "dsets.keys()"
   ]
  },
  {
   "cell_type": "code",
   "execution_count": null,
   "id": "d874c441-d019-41be-a2b3-66fb904a09d7",
   "metadata": {},
   "outputs": [],
   "source": [
    "ds = dsets['fc.minmax']\n",
    "ds"
   ]
  },
  {
   "cell_type": "code",
   "execution_count": null,
   "id": "6c95a1e4-2be6-491e-94f0-fc246713c438",
   "metadata": {},
   "outputs": [],
   "source": [
    "%%time\n",
    "ds.MN2T.isel(forecast_initial_time=0,forecast_hour=0).plot()"
   ]
  }
 ],
 "metadata": {
  "kernelspec": {
   "display_name": "python:osdf",
   "language": "python",
   "name": "osdf"
  },
  "language_info": {
   "codemirror_mode": {
    "name": "ipython",
    "version": 3
   },
   "file_extension": ".py",
   "mimetype": "text/x-python",
   "name": "python",
   "nbconvert_exporter": "python",
   "pygments_lexer": "ipython3",
   "version": "3.10.13"
  }
 },
 "nbformat": 4,
 "nbformat_minor": 5
}
