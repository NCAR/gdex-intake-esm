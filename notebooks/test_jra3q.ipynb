{
 "cells": [
  {
   "cell_type": "code",
   "execution_count": 1,
   "id": "de709bc8",
   "metadata": {},
   "outputs": [],
   "source": [
    "import ecgtools"
   ]
  },
  {
   "cell_type": "code",
   "execution_count": 2,
   "id": "d69e50dc",
   "metadata": {},
   "outputs": [
    {
     "name": "stdout",
     "output_type": "stream",
     "text": [
      "format\n"
     ]
    },
    {
     "ename": "AttributeError",
     "evalue": "'pydantic_core._pydantic_core.ValidationInfo' object has no attribute 'format'",
     "output_type": "error",
     "traceback": [
      "\u001b[31m---------------------------------------------------------------------------\u001b[39m",
      "\u001b[31mAttributeError\u001b[39m                            Traceback (most recent call last)",
      "\u001b[36mCell\u001b[39m\u001b[36m \u001b[39m\u001b[32mIn[2]\u001b[39m\u001b[32m, line 17\u001b[39m\n\u001b[32m      8\u001b[39m b = ecgtools.Builder(\n\u001b[32m      9\u001b[39m         paths=[\u001b[33m'\u001b[39m\u001b[33m/glade/u/home/chiaweih/gdex-arco-kerchunk/test_json/\u001b[39m\u001b[33m'\u001b[39m],\n\u001b[32m     10\u001b[39m         depth=\u001b[32m0\u001b[39m,\n\u001b[32m     11\u001b[39m         exclude_patterns=\u001b[38;5;28;01mNone\u001b[39;00m\n\u001b[32m     12\u001b[39m     )\n\u001b[32m     14\u001b[39m b.build(parsing_func=simple_parser, parsing_func_kwargs={\u001b[33m'\u001b[39m\u001b[33mvar_name\u001b[39m\u001b[33m'\u001b[39m: \u001b[33m'\u001b[39m\u001b[33micec-sfc-fc-gauss\u001b[39m\u001b[33m'\u001b[39m})\n\u001b[32m---> \u001b[39m\u001b[32m17\u001b[39m \u001b[43mb\u001b[49m\u001b[43m.\u001b[49m\u001b[43msave\u001b[49m\u001b[43m(\u001b[49m\n\u001b[32m     18\u001b[39m \u001b[43m        \u001b[49m\u001b[43mname\u001b[49m\u001b[43m=\u001b[49m\u001b[33;43m'\u001b[39;49m\u001b[33;43mjra3q_test_catalog\u001b[39;49m\u001b[33;43m'\u001b[39;49m\u001b[43m,\u001b[49m\n\u001b[32m     19\u001b[39m \u001b[43m        \u001b[49m\u001b[43mpath_column_name\u001b[49m\u001b[43m=\u001b[49m\u001b[33;43m'\u001b[39;49m\u001b[33;43mpath\u001b[39;49m\u001b[33;43m'\u001b[39;49m\u001b[43m,\u001b[49m\n\u001b[32m     20\u001b[39m \u001b[43m        \u001b[49m\u001b[43mvariable_column_name\u001b[49m\u001b[43m=\u001b[49m\u001b[33;43m'\u001b[39;49m\u001b[33;43mvariable\u001b[39;49m\u001b[33;43m'\u001b[39;49m\u001b[43m,\u001b[49m\n\u001b[32m     21\u001b[39m \u001b[43m        \u001b[49m\u001b[43mformat_column_name\u001b[49m\u001b[43m=\u001b[49m\u001b[33;43m'\u001b[39;49m\u001b[33;43mformat\u001b[39;49m\u001b[33;43m'\u001b[39;49m\u001b[43m,\u001b[49m\n\u001b[32m     22\u001b[39m \u001b[43m        \u001b[49m\u001b[43mdata_format\u001b[49m\u001b[43m=\u001b[49m\u001b[33;43m'\u001b[39;49m\u001b[33;43mreference\u001b[39;49m\u001b[33;43m'\u001b[39;49m\u001b[43m,\u001b[49m\n\u001b[32m     23\u001b[39m \u001b[43m        \u001b[49m\u001b[43mgroupby_attrs\u001b[49m\u001b[43m=\u001b[49m\u001b[43m[\u001b[49m\n\u001b[32m     24\u001b[39m \u001b[43m            \u001b[49m\u001b[33;43m'\u001b[39;49m\u001b[33;43mvariable\u001b[39;49m\u001b[33;43m'\u001b[39;49m\n\u001b[32m     25\u001b[39m \u001b[43m        \u001b[49m\u001b[43m]\u001b[49m\u001b[43m,\u001b[49m\n\u001b[32m     26\u001b[39m \u001b[43m        \u001b[49m\u001b[43maggregations\u001b[49m\u001b[43m=\u001b[49m\u001b[43m[\u001b[49m\n\u001b[32m     27\u001b[39m \u001b[43m            \u001b[49m\u001b[43m{\u001b[49m\u001b[33;43m'\u001b[39;49m\u001b[33;43mtype\u001b[39;49m\u001b[33;43m'\u001b[39;49m\u001b[43m:\u001b[49m\u001b[43m \u001b[49m\u001b[33;43m'\u001b[39;49m\u001b[33;43munion\u001b[39;49m\u001b[33;43m'\u001b[39;49m\u001b[43m,\u001b[49m\u001b[43m \u001b[49m\u001b[33;43m'\u001b[39;49m\u001b[33;43mattribute_name\u001b[39;49m\u001b[33;43m'\u001b[39;49m\u001b[43m:\u001b[49m\u001b[43m \u001b[49m\u001b[33;43m'\u001b[39;49m\u001b[33;43mvariable\u001b[39;49m\u001b[33;43m'\u001b[39;49m\u001b[43m}\u001b[49m\u001b[43m,\u001b[49m\n\u001b[32m     28\u001b[39m \u001b[43m            \u001b[49m\u001b[43m{\u001b[49m\n\u001b[32m     29\u001b[39m \u001b[43m                \u001b[49m\u001b[33;43m'\u001b[39;49m\u001b[33;43mtype\u001b[39;49m\u001b[33;43m'\u001b[39;49m\u001b[43m:\u001b[49m\u001b[43m \u001b[49m\u001b[33;43m'\u001b[39;49m\u001b[33;43mjoin_existing\u001b[39;49m\u001b[33;43m'\u001b[39;49m\u001b[43m,\u001b[49m\n\u001b[32m     30\u001b[39m \u001b[43m                \u001b[49m\u001b[33;43m'\u001b[39;49m\u001b[33;43mattribute_name\u001b[39;49m\u001b[33;43m'\u001b[39;49m\u001b[43m:\u001b[49m\u001b[43m \u001b[49m\u001b[33;43m'\u001b[39;49m\u001b[33;43mtime_range\u001b[39;49m\u001b[33;43m'\u001b[39;49m\u001b[43m,\u001b[49m\n\u001b[32m     31\u001b[39m \u001b[43m                \u001b[49m\u001b[33;43m'\u001b[39;49m\u001b[33;43moptions\u001b[39;49m\u001b[33;43m'\u001b[39;49m\u001b[43m:\u001b[49m\u001b[43m \u001b[49m\u001b[43m{\u001b[49m\u001b[33;43m'\u001b[39;49m\u001b[33;43mdim\u001b[39;49m\u001b[33;43m'\u001b[39;49m\u001b[43m:\u001b[49m\u001b[43m \u001b[49m\u001b[33;43m'\u001b[39;49m\u001b[33;43mtime\u001b[39;49m\u001b[33;43m'\u001b[39;49m\u001b[43m,\u001b[49m\u001b[43m \u001b[49m\u001b[33;43m'\u001b[39;49m\u001b[33;43mcoords\u001b[39;49m\u001b[33;43m'\u001b[39;49m\u001b[43m:\u001b[49m\u001b[43m \u001b[49m\u001b[33;43m'\u001b[39;49m\u001b[33;43mminimal\u001b[39;49m\u001b[33;43m'\u001b[39;49m\u001b[43m,\u001b[49m\u001b[43m \u001b[49m\u001b[33;43m'\u001b[39;49m\u001b[33;43mcompat\u001b[39;49m\u001b[33;43m'\u001b[39;49m\u001b[43m:\u001b[49m\u001b[43m \u001b[49m\u001b[33;43m'\u001b[39;49m\u001b[33;43moverride\u001b[39;49m\u001b[33;43m'\u001b[39;49m\u001b[43m}\u001b[49m\u001b[43m,\u001b[49m\n\u001b[32m     32\u001b[39m \u001b[43m            \u001b[49m\u001b[43m}\u001b[49m\u001b[43m,\u001b[49m\n\u001b[32m     33\u001b[39m \u001b[43m        \u001b[49m\u001b[43m]\u001b[49m\u001b[43m,\u001b[49m\n\u001b[32m     34\u001b[39m \u001b[43m        \u001b[49m\u001b[43mcatalog_type\u001b[49m\u001b[43m=\u001b[49m\u001b[33;43m'\u001b[39;49m\u001b[33;43mcsv\u001b[39;49m\u001b[33;43m'\u001b[39;49m\u001b[43m,\u001b[49m\n\u001b[32m     35\u001b[39m \u001b[43m        \u001b[49m\u001b[43mdescription\u001b[49m\u001b[43m=\u001b[49m\u001b[33;43m'\u001b[39;49m\u001b[33;43mJRA3Q test catalog\u001b[39;49m\u001b[33;43m'\u001b[39;49m\u001b[43m,\u001b[49m\n\u001b[32m     36\u001b[39m \u001b[43m        \u001b[49m\u001b[43mdirectory\u001b[49m\u001b[43m=\u001b[49m\u001b[33;43m'\u001b[39;49m\u001b[33;43m./\u001b[39;49m\u001b[33;43m'\u001b[39;49m\u001b[43m,\u001b[49m\n\u001b[32m     37\u001b[39m \u001b[43m    \u001b[49m\u001b[43m)\u001b[49m\n",
      "\u001b[36mFile \u001b[39m\u001b[32m~/gdex_work/.venv/lib/python3.11/site-packages/pydantic/deprecated/decorator.py:56\u001b[39m, in \u001b[36mvalidate_arguments.<locals>.validate.<locals>.wrapper_function\u001b[39m\u001b[34m(*args, **kwargs)\u001b[39m\n\u001b[32m     54\u001b[39m \u001b[38;5;129m@wraps\u001b[39m(_func)\n\u001b[32m     55\u001b[39m \u001b[38;5;28;01mdef\u001b[39;00m\u001b[38;5;250m \u001b[39m\u001b[34mwrapper_function\u001b[39m(*args: Any, **kwargs: Any) -> Any:\n\u001b[32m---> \u001b[39m\u001b[32m56\u001b[39m     \u001b[38;5;28;01mreturn\u001b[39;00m \u001b[43mvd\u001b[49m\u001b[43m.\u001b[49m\u001b[43mcall\u001b[49m\u001b[43m(\u001b[49m\u001b[43m*\u001b[49m\u001b[43margs\u001b[49m\u001b[43m,\u001b[49m\u001b[43m \u001b[49m\u001b[43m*\u001b[49m\u001b[43m*\u001b[49m\u001b[43mkwargs\u001b[49m\u001b[43m)\u001b[49m\n",
      "\u001b[36mFile \u001b[39m\u001b[32m~/gdex_work/.venv/lib/python3.11/site-packages/pydantic/deprecated/decorator.py:151\u001b[39m, in \u001b[36mValidatedFunction.call\u001b[39m\u001b[34m(self, *args, **kwargs)\u001b[39m\n\u001b[32m    149\u001b[39m \u001b[38;5;28;01mdef\u001b[39;00m\u001b[38;5;250m \u001b[39m\u001b[34mcall\u001b[39m(\u001b[38;5;28mself\u001b[39m, *args: Any, **kwargs: Any) -> Any:\n\u001b[32m    150\u001b[39m     m = \u001b[38;5;28mself\u001b[39m.init_model_instance(*args, **kwargs)\n\u001b[32m--> \u001b[39m\u001b[32m151\u001b[39m     \u001b[38;5;28;01mreturn\u001b[39;00m \u001b[38;5;28;43mself\u001b[39;49m\u001b[43m.\u001b[49m\u001b[43mexecute\u001b[49m\u001b[43m(\u001b[49m\u001b[43mm\u001b[49m\u001b[43m)\u001b[49m\n",
      "\u001b[36mFile \u001b[39m\u001b[32m~/gdex_work/.venv/lib/python3.11/site-packages/pydantic/deprecated/decorator.py:227\u001b[39m, in \u001b[36mValidatedFunction.execute\u001b[39m\u001b[34m(self, m)\u001b[39m\n\u001b[32m    225\u001b[39m     \u001b[38;5;28;01mreturn\u001b[39;00m \u001b[38;5;28mself\u001b[39m.raw_function(*args_, **kwargs, **var_kwargs)\n\u001b[32m    226\u001b[39m \u001b[38;5;28;01melse\u001b[39;00m:\n\u001b[32m--> \u001b[39m\u001b[32m227\u001b[39m     \u001b[38;5;28;01mreturn\u001b[39;00m \u001b[38;5;28;43mself\u001b[39;49m\u001b[43m.\u001b[49m\u001b[43mraw_function\u001b[49m\u001b[43m(\u001b[49m\u001b[43m*\u001b[49m\u001b[43m*\u001b[49m\u001b[43md\u001b[49m\u001b[43m,\u001b[49m\u001b[43m \u001b[49m\u001b[43m*\u001b[49m\u001b[43m*\u001b[49m\u001b[43mvar_kwargs\u001b[49m\u001b[43m)\u001b[49m\n",
      "\u001b[36mFile \u001b[39m\u001b[32m~/ecgtools/ecgtools/builder.py:300\u001b[39m, in \u001b[36mBuilder.save\u001b[39m\u001b[34m(self, name, path_column_name, variable_column_name, format_column_name, data_format, groupby_attrs, aggregations, esmcat_version, description, directory, catalog_type, to_csv_kwargs, json_dump_kwargs)\u001b[39m\n\u001b[32m    293\u001b[39m \u001b[38;5;28;01melse\u001b[39;00m:\n\u001b[32m    294\u001b[39m     \u001b[38;5;28mprint\u001b[39m(format_column_name)\n\u001b[32m    295\u001b[39m     cat = ESMCatalogModel(\n\u001b[32m    296\u001b[39m         esmcat_version=esmcat_version,\n\u001b[32m    297\u001b[39m         description=description,\n\u001b[32m    298\u001b[39m         attributes=attributes,\n\u001b[32m    299\u001b[39m         aggregation_control=_aggregation_control,\n\u001b[32m--> \u001b[39m\u001b[32m300\u001b[39m         assets=\u001b[43mAssets\u001b[49m\u001b[43m(\u001b[49m\u001b[43mcolumn_name\u001b[49m\u001b[43m=\u001b[49m\u001b[43mpath_column_name\u001b[49m\u001b[43m,\u001b[49m\u001b[43m  \u001b[49m\u001b[43mformat_column_name\u001b[49m\u001b[43m=\u001b[49m\u001b[43mformat_column_name\u001b[49m\u001b[43m)\u001b[49m,\n\u001b[32m    301\u001b[39m     )\n\u001b[32m    303\u001b[39m cat._df = \u001b[38;5;28mself\u001b[39m.df\n\u001b[32m    305\u001b[39m cat.save(\n\u001b[32m    306\u001b[39m     name=name,\n\u001b[32m    307\u001b[39m     directory=directory,\n\u001b[32m   (...)\u001b[39m\u001b[32m    310\u001b[39m     json_dump_kwargs=json_dump_kwargs,\n\u001b[32m    311\u001b[39m )\n",
      "    \u001b[31m[... skipping hidden 1 frame]\u001b[39m\n",
      "\u001b[36mFile \u001b[39m\u001b[32m~/gdex_work/.venv/lib/python3.11/site-packages/intake_esm/cat.py:76\u001b[39m, in \u001b[36mAssets._validate_data_format\u001b[39m\u001b[34m(cls, model)\u001b[39m\n\u001b[32m     74\u001b[39m \u001b[38;5;129m@pydantic\u001b[39m.model_validator(mode=\u001b[33m'\u001b[39m\u001b[33mafter\u001b[39m\u001b[33m'\u001b[39m)\n\u001b[32m     75\u001b[39m \u001b[38;5;28;01mdef\u001b[39;00m\u001b[38;5;250m \u001b[39m\u001b[34m_validate_data_format\u001b[39m(\u001b[38;5;28mcls\u001b[39m, model):\n\u001b[32m---> \u001b[39m\u001b[32m76\u001b[39m     data_format, format_column_name = \u001b[43mmodel\u001b[49m\u001b[43m.\u001b[49m\u001b[43mformat\u001b[49m, model.format_column_name\n\u001b[32m     77\u001b[39m     \u001b[38;5;28;01mif\u001b[39;00m data_format \u001b[38;5;129;01mis\u001b[39;00m \u001b[38;5;129;01mnot\u001b[39;00m \u001b[38;5;28;01mNone\u001b[39;00m \u001b[38;5;129;01mand\u001b[39;00m format_column_name \u001b[38;5;129;01mis\u001b[39;00m \u001b[38;5;129;01mnot\u001b[39;00m \u001b[38;5;28;01mNone\u001b[39;00m:\n\u001b[32m     78\u001b[39m         \u001b[38;5;28;01mraise\u001b[39;00m \u001b[38;5;167;01mValueError\u001b[39;00m(\u001b[33m'\u001b[39m\u001b[33mCannot set both format and format_column_name\u001b[39m\u001b[33m'\u001b[39m)\n",
      "\u001b[31mAttributeError\u001b[39m: 'pydantic_core._pydantic_core.ValidationInfo' object has no attribute 'format'"
     ]
    }
   ],
   "source": [
    "def simple_parser(file_path, var_name=None):\n",
    "\n",
    "    # create basic catalog item\n",
    "    catalog_item = {'path':file_path, 'variable':var_name, 'format':'reference'}\n",
    "\n",
    "    return catalog_item\n",
    "\n",
    "b = ecgtools.Builder(\n",
    "        paths=['/glade/u/home/chiaweih/gdex-arco-kerchunk/test_json/'],\n",
    "        depth=0,\n",
    "        exclude_patterns=None\n",
    "    )\n",
    "\n",
    "b.build(parsing_func=simple_parser, parsing_func_kwargs={'var_name': 'icec-sfc-fc-gauss'})\n",
    "\n",
    "\n",
    "b.save(\n",
    "        name='jra3q_test_catalog',\n",
    "        path_column_name='path',\n",
    "        variable_column_name='variable',\n",
    "        format_column_name='format',\n",
    "        data_format='reference',\n",
    "        groupby_attrs=[\n",
    "            'variable'\n",
    "        ],\n",
    "        aggregations=[\n",
    "            {'type': 'union', 'attribute_name': 'variable'},\n",
    "            {\n",
    "                'type': 'join_existing',\n",
    "                'attribute_name': 'time_range',\n",
    "                'options': {'dim': 'time', 'coords': 'minimal', 'compat': 'override'},\n",
    "            },\n",
    "        ],\n",
    "        catalog_type='csv',\n",
    "        description='JRA3Q test catalog',\n",
    "        directory='./',\n",
    "    )\n"
   ]
  },
  {
   "cell_type": "code",
   "execution_count": null,
   "id": "f762ce67",
   "metadata": {},
   "outputs": [
    {
     "data": {
      "text/plain": [
       "Builder(paths=['/glade/u/home/chiaweih/gdex-arco-kerchunk/test_json/'], storage_options={}, depth=0, exclude_patterns=[], include_patterns=[], joblib_parallel_kwargs={})"
      ]
     },
     "execution_count": 17,
     "metadata": {},
     "output_type": "execute_result"
    }
   ],
   "source": [
    "b = ecgtools.Builder(\n",
    "        paths=['/glade/u/home/chiaweih/gdex-arco-kerchunk/test_json/'],\n",
    "        depth=0,\n",
    "        exclude_patterns=None\n",
    "    )\n",
    "\n",
    "b.build(parsing_func=simple_parser, parsing_func_kwargs={'varname': 'icec-sfc-fc-gauss'})"
   ]
  },
  {
   "cell_type": "code",
   "execution_count": 18,
   "id": "694b1dc2",
   "metadata": {},
   "outputs": [
    {
     "data": {
      "text/html": [
       "<div>\n",
       "<style scoped>\n",
       "    .dataframe tbody tr th:only-of-type {\n",
       "        vertical-align: middle;\n",
       "    }\n",
       "\n",
       "    .dataframe tbody tr th {\n",
       "        vertical-align: top;\n",
       "    }\n",
       "\n",
       "    .dataframe thead th {\n",
       "        text-align: right;\n",
       "    }\n",
       "</style>\n",
       "<table border=\"1\" class=\"dataframe\">\n",
       "  <thead>\n",
       "    <tr style=\"text-align: right;\">\n",
       "      <th></th>\n",
       "      <th>path</th>\n",
       "      <th>variable</th>\n",
       "      <th>format</th>\n",
       "      <th>short_name</th>\n",
       "      <th>long_name</th>\n",
       "      <th>units</th>\n",
       "      <th>start_time</th>\n",
       "      <th>end_time</th>\n",
       "      <th>level</th>\n",
       "      <th>level_units</th>\n",
       "      <th>frequency</th>\n",
       "    </tr>\n",
       "  </thead>\n",
       "  <tbody>\n",
       "    <tr>\n",
       "      <th>0</th>\n",
       "      <td>/glade/u/home/chiaweih/gdex-arco-kerchunk/test...</td>\n",
       "      <td>icec-sfc-fc-gauss</td>\n",
       "      <td>json</td>\n",
       "      <td>icec-sfc-fc-gauss</td>\n",
       "      <td>Ice cover</td>\n",
       "      <td>fraction</td>\n",
       "      <td>1949-07-01</td>\n",
       "      <td>1949-07-31 23:00:00</td>\n",
       "      <td></td>\n",
       "      <td></td>\n",
       "      <td>0 days 01:00:00</td>\n",
       "    </tr>\n",
       "  </tbody>\n",
       "</table>\n",
       "</div>"
      ],
      "text/plain": [
       "                                                path           variable  \\\n",
       "0  /glade/u/home/chiaweih/gdex-arco-kerchunk/test...  icec-sfc-fc-gauss   \n",
       "\n",
       "  format         short_name  long_name     units start_time  \\\n",
       "0   json  icec-sfc-fc-gauss  Ice cover  fraction 1949-07-01   \n",
       "\n",
       "             end_time level level_units       frequency  \n",
       "0 1949-07-31 23:00:00                   0 days 01:00:00  "
      ]
     },
     "execution_count": 18,
     "metadata": {},
     "output_type": "execute_result"
    }
   ],
   "source": [
    "b.df"
   ]
  },
  {
   "cell_type": "code",
   "execution_count": null,
   "id": "bb1a650d",
   "metadata": {},
   "outputs": [],
   "source": []
  }
 ],
 "metadata": {
  "kernelspec": {
   "display_name": "gdex_work (3.11.13)",
   "language": "python",
   "name": "python3"
  },
  "language_info": {
   "codemirror_mode": {
    "name": "ipython",
    "version": 3
   },
   "file_extension": ".py",
   "mimetype": "text/x-python",
   "name": "python",
   "nbconvert_exporter": "python",
   "pygments_lexer": "ipython3",
   "version": "3.11.13"
  }
 },
 "nbformat": 4,
 "nbformat_minor": 5
}
