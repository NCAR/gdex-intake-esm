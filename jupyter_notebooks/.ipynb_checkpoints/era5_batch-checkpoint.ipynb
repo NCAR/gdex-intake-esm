{
 "cells": [
  {
   "cell_type": "markdown",
   "id": "bc65f494-4fbe-4af0-85ca-e3a424b56454",
   "metadata": {},
   "source": [
    "# Create intake catalog for ERA5 disk access by submitting a PBS job"
   ]
  },
  {
   "cell_type": "code",
   "execution_count": 37,
   "id": "20444ba4-275a-45a7-bda5-c22b5cb5cee4",
   "metadata": {},
   "outputs": [],
   "source": [
    "# Display output of plots directly in Notebook\n",
    "import intake\n",
    "import numpy as np\n",
    "import xarray as xr\n",
    "import intake_esm\n",
    "import glob\n",
    "from ecgtools import Builder\n",
    "from ecgtools.builder import INVALID_ASSET, TRACEBACK\n",
    "import re\n",
    "import pandas as pd"
   ]
  },
  {
   "cell_type": "code",
   "execution_count": 39,
   "id": "f9bd1bd0-e3ef-4ab3-a5f8-daf315ddb63a",
   "metadata": {},
   "outputs": [],
   "source": [
    "rda_scratch = '/gpfs/csfs1/collections/rda/scratch/harshah'\n",
    "rda_data    = '/gpfs/csfs1/collections/rda/data/'\n",
    "#era5_path   = rda_data + 'ds633.0/e5.oper.an.sfc/'\n",
    "era5_path   = rda_data + 'ds633.0/'\n",
    "zarr_path   = rda_scratch + '/tas_zarr/'\n",
    "#\n",
    "rda_url     =  'https://request.rda.ucar.edu/'\n",
    "#This maps to /glade/campaign/collections/rda/transfer/\n",
    "rda_zarr    = rda_url + 'harshah/pelican_test/tas_zarr/'"
   ]
  },
  {
   "cell_type": "markdown",
   "id": "703e721a-c434-4ae0-a110-4f35550aee2b",
   "metadata": {},
   "source": [
    "### Build a custom parser"
   ]
  },
  {
   "cell_type": "code",
   "execution_count": null,
   "id": "ffc4b727-e742-4925-b6bb-c75aba9eeb24",
   "metadata": {},
   "outputs": [],
   "source": [
    "def parse_era5(file_path):\n",
    "    # Convert file_path to a Path object for easier handling\n",
    "    file_path = Path(file_path)\n",
    "    \n",
    "    # Check if the file is a NetCDF file\n",
    "    if file_path.suffix != '.nc':\n",
    "        return {}  # Return an empty dictionary if the file is not a NetCDF file\n",
    "\n",
    "    # Enhanced regular expression to accurately parse the date-time segments in the filename\n",
    "    pattern = re.compile(r'''\n",
    "        (?P<era_id>e5)\\.oper\\.\n",
    "        (?P<datatype>[^.]+)\n",
    "        (?:\\.(?P<level_type>[^.]+))?  # Making level_type optional\n",
    "        \\.(?P<step_type>[^.]+)\n",
    "        \\.(?P<table_code>\\d+)\n",
    "        _(?P<param_code>\\d+)\n",
    "        _(?P<variable_short_name>\\w+)\n",
    "        .*?\n",
    "        (?P<year>\\d{4})\n",
    "        (?P<month>\\d{2})\n",
    "        .*?                           # Skip any characters until the extension\n",
    "        \\.nc$                         # Ensure the file ends with .nc\n",
    "        ''', re.VERBOSE | re.DOTALL)\n",
    "\n",
    "    match = pattern.search(file_path.name)\n",
    "\n",
    "    if match:\n",
    "        try:\n",
    "            with xr.open_dataset(file_path) as ds:\n",
    "                # Assuming there is typically one main variable of interest\n",
    "                if ds.data_vars:\n",
    "                    var_name = list(ds.data_vars)[0]  # Select the first variable if no specific variable is assumed\n",
    "                    var = ds[var_name]\n",
    "                    short_name = var_name\n",
    "                    long_name = var.attrs.get('long_name', 'N/A')\n",
    "                    units = var.attrs.get('units', 'N/A')\n",
    "                else:\n",
    "                    short_name, long_name, units = 'N/A', 'N/A', 'N/A'\n",
    "\n",
    "                details = {\n",
    "                    'era_id': match.group('era_id'),\n",
    "                    'datatype': match.group('datatype'),\n",
    "                    'level_type': match.group('level_type') if match.group('level_type') else '',\n",
    "                    'step_type': match.group('step_type'),\n",
    "                    'table_code': match.group('table_code'),\n",
    "                    'param_code': match.group('param_code'),\n",
    "                    'variable': short_name,\n",
    "                    'long_name': long_name,\n",
    "                    'units': units,\n",
    "                    'year': match.group('year'),\n",
    "                    'month': match.group('month'),\n",
    "                    'format': 'nc',\n",
    "                    'frequency': 'hourly',  # Assuming hourly frequency based on context\n",
    "                    'path': str(file_path)  # Include full file path\n",
    "                }\n",
    "\n",
    "            return details\n",
    "        except Exception as e:\n",
    "            print(f\"Failed to open dataset or extract variables: {e}\")\n",
    "            return {}\n",
    "\n",
    "    else:\n",
    "        print(\"Failed to match the filename pattern.\")\n",
    "        return {}  # Return an empty dictionary if no match is found"
   ]
  },
  {
   "cell_type": "markdown",
   "id": "0734f042-6d37-463e-b832-dfa6e12503e7",
   "metadata": {},
   "source": [
    "### Builder object for all files"
   ]
  },
  {
   "cell_type": "code",
   "execution_count": null,
   "id": "3e9cdaa4-222f-4d05-90dd-14b0b722e403",
   "metadata": {},
   "outputs": [],
   "source": [
    "#b_an = Builder(paths=[era5_path+'e5.oper.an.*/'],depth=1,exclude_patterns=['*.grb'])\n",
    "b_era = Builder(paths=[era5_path],depth=2,exclude_patterns=['*.grb','.html'],joblib_parallel_kwargs = {\n",
    "         'n_jobs': 15,  # Utilize all n cores\n",
    "         'backend': 'loky',  # 'loky' is good for managing processes, especially if you're not using Dask integration\n",
    "        })\n",
    "b_era"
   ]
  },
  {
   "cell_type": "code",
   "execution_count": null,
   "id": "a941e0af-510f-4db7-b7ca-2f92aa89d320",
   "metadata": {},
   "outputs": [],
   "source": [
    "b_era.build(parsing_func= parse_era5)"
   ]
  },
  {
   "cell_type": "code",
   "execution_count": null,
   "id": "cd7ebd00-6b04-45be-b851-2dd4d233e737",
   "metadata": {},
   "outputs": [],
   "source": [
    "b_era.df"
   ]
  },
  {
   "cell_type": "code",
   "execution_count": null,
   "id": "32d43985-cad8-4510-87a5-fddaaacd73cc",
   "metadata": {},
   "outputs": [],
   "source": [
    "b_era.save(\n",
    "    name='era5_catalog',\n",
    "    path_column_name='path',\n",
    "    variable_column_name='variable',\n",
    "    data_format='netcdf',\n",
    "    groupby_attrs=[\n",
    "        'datatype',\n",
    "        'level_type',\n",
    "        'step_type'\n",
    "    ],\n",
    "    aggregations=[\n",
    "        {'type': 'union', 'attribute_name': 'variable'},\n",
    "        {\n",
    "            'type': 'join_existing',\n",
    "            'attribute_name': 'time_range',\n",
    "            'options': {'dim': 'time', 'coords': 'minimal', 'compat': 'override'},\n",
    "        },\n",
    "    ],\n",
    "    description = 'This is the NetCDF collection of the publicly accessible ERA5 dataset, which is a part of the NCAR glade collection. ',\n",
    "    directory = '/gpfs/csfs1/collections/rda/scratch/harshah/intake_catalogs/'\n",
    ")"
   ]
  }
 ],
 "metadata": {
  "kernelspec": {
   "display_name": "Python [conda env:.conda-intake]",
   "language": "python",
   "name": "conda-env-.conda-intake-py"
  },
  "language_info": {
   "codemirror_mode": {
    "name": "ipython",
    "version": 3
   },
   "file_extension": ".py",
   "mimetype": "text/x-python",
   "name": "python",
   "nbconvert_exporter": "python",
   "pygments_lexer": "ipython3",
   "version": "3.12.3"
  }
 },
 "nbformat": 4,
 "nbformat_minor": 5
}
